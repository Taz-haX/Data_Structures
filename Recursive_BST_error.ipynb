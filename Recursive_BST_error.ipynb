{
  "nbformat": 4,
  "nbformat_minor": 0,
  "metadata": {
    "colab": {
      "provenance": [],
      "authorship_tag": "ABX9TyPv1jNZo/T15CuvL2QBPDY8",
      "include_colab_link": true
    },
    "kernelspec": {
      "name": "python3",
      "display_name": "Python 3"
    },
    "language_info": {
      "name": "python"
    }
  },
  "cells": [
    {
      "cell_type": "markdown",
      "metadata": {
        "id": "view-in-github",
        "colab_type": "text"
      },
      "source": [
        "<a href=\"https://colab.research.google.com/github/Taz-haX/Data_Structures/blob/main/Recursive_BST_error.ipynb\" target=\"_parent\"><img src=\"https://colab.research.google.com/assets/colab-badge.svg\" alt=\"Open In Colab\"/></a>"
      ]
    },
    {
      "cell_type": "code",
      "execution_count": 4,
      "metadata": {
        "colab": {
          "base_uri": "https://localhost:8080/"
        },
        "id": "sCakHY2fcMQo",
        "outputId": "9f3290c1-24df-4ce7-a3af-26db913e31e6"
      },
      "outputs": [
        {
          "output_type": "stream",
          "name": "stdout",
          "text": [
            "False\n",
            "False\n"
          ]
        }
      ],
      "source": [
        "class Node:\n",
        "    def __init__(self, value, left = None, right = None):\n",
        "        self.value = value\n",
        "        self.left = left\n",
        "        self.right = right\n",
        "\n",
        "class Binary_Search_Tree:\n",
        "    def __init__(self, root = None):\n",
        "        self.root = root\n",
        "    #\n",
        "    # def insert(self, value):\n",
        "    #     new_node = Node(value)\n",
        "    #     if self.root is None:\n",
        "    #         self.root = new_node\n",
        "    #         return True\n",
        "    #     temp = self.root\n",
        "    #     while (True):\n",
        "    #         if new_node.value == temp.value:\n",
        "    #             return False\n",
        "    #         if new_node.value < temp.value:\n",
        "    #             if temp.left is None:\n",
        "    #                 temp.left = new_node\n",
        "    #                 return True\n",
        "    #             temp = temp.left\n",
        "    #         else:\n",
        "    #             if temp.right is None:\n",
        "    #                 temp.right = new_node\n",
        "    #                 return True\n",
        "    #             temp = temp.right\n",
        "\n",
        "    def __r_insert(self, current_node, value):\n",
        "            if current_node == None:\n",
        "                return Node(value)\n",
        "            if value < current_node.value:\n",
        "                current_node.left = self.__r_insert(current_node.left, value)\n",
        "            if value > current_node.value:\n",
        "                current_node.right = self.__r_insert(current_node.right, value)\n",
        "            return current_node\n",
        "\n",
        "    def r_insert(self, value):\n",
        "        if self.root == None:\n",
        "            self.root = Node(value)\n",
        "        self.__r_insert(self.root, value)\n",
        "\n",
        "    def __r_contains(self, current_node, value):\n",
        "        if current_node == None:\n",
        "            return False\n",
        "        if value == current_node.value:\n",
        "            return True\n",
        "        if value>current_node.value:\n",
        "            return self.__r_contains(current_node.right, value)\n",
        "        elif value<current_node.value:\n",
        "            return self.__r_contains(current_node.left, value)\n",
        "\n",
        "\n",
        "    def r_contains(self, value):\n",
        "        return self.__r_contains(self.root, value)\n",
        "\n",
        "\n",
        "bst1 = Binary_Search_Tree()\n",
        "# bst1.insert(67)\n",
        "# bst1.insert(45)\n",
        "# bst1.insert(52)\n",
        "# bst1.insert(64)\n",
        "# print(bst1.insert(78))\n",
        "# bst1.insert(69)\n",
        "\n",
        "print(bst1.r_contains(45))\n",
        "print(bst1.r_contains(33))\n",
        "\n",
        "bst1.r_insert(89)\n",
        "bst1.r_insert(34)\n",
        "bst1.r_insert(33)\n",
        "#print(bst1.r_insert(52))\n",
        "#print(bst1.r_contains(34))"
      ]
    }
  ]
}