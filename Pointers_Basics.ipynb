{
  "nbformat": 4,
  "nbformat_minor": 0,
  "metadata": {
    "colab": {
      "provenance": [],
      "authorship_tag": "ABX9TyNPf47MgkckmGM7mZH7d3yH",
      "include_colab_link": true
    },
    "kernelspec": {
      "name": "python3",
      "display_name": "Python 3"
    },
    "language_info": {
      "name": "python"
    }
  },
  "cells": [
    {
      "cell_type": "markdown",
      "metadata": {
        "id": "view-in-github",
        "colab_type": "text"
      },
      "source": [
        "<a href=\"https://colab.research.google.com/github/Taz-haX/Data_Structures/blob/main/Pointers_Basics.ipynb\" target=\"_parent\"><img src=\"https://colab.research.google.com/assets/colab-badge.svg\" alt=\"Open In Colab\"/></a>"
      ]
    },
    {
      "cell_type": "code",
      "execution_count": 1,
      "metadata": {
        "colab": {
          "base_uri": "https://localhost:8080/"
        },
        "id": "ZK4N4qyQaNJx",
        "outputId": "ca3a5a65-fccd-4bd6-ab4b-62f63c8f5803"
      },
      "outputs": [
        {
          "output_type": "stream",
          "name": "stdout",
          "text": [
            "11\n",
            "11\n",
            "x pointing to: 135435317346864\n",
            "b pointing to: 135435317346864\n",
            "\n",
            "11\n",
            "9\n",
            "x pointing to: 135435317346864\n",
            "b pointing to: 135435317346800\n",
            "\n",
            "================================\n",
            "\n",
            "dict_items([('hamilton', 7)])\n",
            "dict_items([('hamilton', 7)])\n",
            "toto pointing to: 135435022335488\n",
            "vaseur pointing to: 135435022335488\n",
            "\n",
            "dict_items([('hamilton', 8)])\n",
            "dict_items([('hamilton', 8)])\n",
            "toto pointing to: 135435022335488\n",
            "vaseur pointing to: 135435022335488\n"
          ]
        }
      ],
      "source": [
        "# POINTERS\n",
        "\n",
        "x = 11\n",
        "b=x\n",
        "\n",
        "print(x)\n",
        "print(b)\n",
        "\n",
        "print(f'x pointing to: {id(x)}')\n",
        "print(f'b pointing to: {id(b)}')\n",
        "print()\n",
        "\n",
        "b=9\n",
        "\n",
        "print(x)\n",
        "print(b)\n",
        "\n",
        "print(f'x pointing to: {id(x)}')\n",
        "print(f'b pointing to: {id(b)}')\n",
        "print()\n",
        "print('================================')\n",
        "print()\n",
        "\n",
        "toto = {'hamilton':7}\n",
        "vaseur = toto\n",
        "\n",
        "print(toto.items())\n",
        "print(vaseur.items())\n",
        "\n",
        "print(f'toto pointing to: {id(toto)}')\n",
        "print(f'vaseur pointing to: {id(vaseur)}')\n",
        "print()\n",
        "\n",
        "vaseur['hamilton']=8\n",
        "\n",
        "print(toto.items())\n",
        "print(vaseur.items())\n",
        "\n",
        "print(f'toto pointing to: {id(toto)}')\n",
        "print(f'vaseur pointing to: {id(vaseur)}')\n",
        "\n",
        "#integers immutable, dictionaries are not. i.e. after change, dictionary memory\n",
        "#of two variables points to the same address."
      ]
    }
  ]
}