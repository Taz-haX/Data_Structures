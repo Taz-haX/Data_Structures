{
  "nbformat": 4,
  "nbformat_minor": 0,
  "metadata": {
    "colab": {
      "provenance": [],
      "include_colab_link": true
    },
    "kernelspec": {
      "name": "python3",
      "display_name": "Python 3"
    },
    "language_info": {
      "name": "python"
    }
  },
  "cells": [
    {
      "cell_type": "markdown",
      "metadata": {
        "id": "view-in-github",
        "colab_type": "text"
      },
      "source": [
        "<a href=\"https://colab.research.google.com/github/Taz-haX/Data_Structures/blob/main/CSE_220_Lab_4_Tasks.ipynb\" target=\"_parent\"><img src=\"https://colab.research.google.com/assets/colab-badge.svg\" alt=\"Open In Colab\"/></a>"
      ]
    },
    {
      "cell_type": "code",
      "execution_count": null,
      "metadata": {
        "id": "Pp1R95Pe7ID2",
        "outputId": "9560f2ed-c9e7-4349-8a7c-e49ee6620598",
        "colab": {
          "base_uri": "https://localhost:8080/"
        }
      },
      "outputs": [
        {
          "output_type": "stream",
          "name": "stdout",
          "text": [
            "Collecting fhm-unittest\n",
            "  Downloading fhm_unittest-1.0.1-py3-none-any.whl (2.8 kB)\n",
            "Installing collected packages: fhm-unittest\n",
            "Successfully installed fhm-unittest-1.0.1\n",
            "Collecting fuzzywuzzy\n",
            "  Downloading fuzzywuzzy-0.18.0-py2.py3-none-any.whl (18 kB)\n",
            "Installing collected packages: fuzzywuzzy\n",
            "Successfully installed fuzzywuzzy-0.18.0\n"
          ]
        },
        {
          "output_type": "stream",
          "name": "stderr",
          "text": [
            "/usr/local/lib/python3.10/dist-packages/fuzzywuzzy/fuzz.py:11: UserWarning: Using slow pure-python SequenceMatcher. Install python-Levenshtein to remove this warning\n",
            "  warnings.warn('Using slow pure-python SequenceMatcher. Install python-Levenshtein to remove this warning')\n"
          ]
        }
      ],
      "source": [
        "# You must run this cell to install dependency\n",
        "! pip3 install fhm-unittest\n",
        "! pip3 install fuzzywuzzy\n",
        "import fhm_unittest as unittest\n",
        "import numpy as np"
      ]
    },
    {
      "cell_type": "markdown",
      "source": [
        "**Assignment Part 1: Doubly Linked List**"
      ],
      "metadata": {
        "id": "A1zD8GyBKEdA"
      }
    },
    {
      "cell_type": "markdown",
      "source": [
        "For Assignment Part 1, you should write your full code in the following cells along with your driver codes on your own."
      ],
      "metadata": {
        "id": "z4q4a-vSNoII"
      }
    },
    {
      "cell_type": "code",
      "source": [
        "#Assignment Part 1\n",
        "class Patient:\n",
        "  def __init__(self, id = None, name = None, age = None, bloodgroup = None):\n",
        "    self.id = id\n",
        "    self.name = name\n",
        "    self.age = age\n",
        "    self.bloodgroup = bloodgroup\n",
        "    self.next = None\n",
        "    self.prev = None"
      ],
      "metadata": {
        "id": "itoWpG7oNziA"
      },
      "execution_count": null,
      "outputs": []
    },
    {
      "cell_type": "code",
      "source": [
        "class WRM:\n",
        "  def __init__(self):\n",
        "    self.dummy = Patient()\n",
        "    self.head = self.dummy\n",
        "    self.tail = self.dummy\n",
        "    self.head.next = self.tail\n",
        "    self.head.prev = self.tail\n",
        "    self.tail.next = self.head\n",
        "    self.tail.prev = self.head\n",
        "    self.length = 1\n",
        "\n",
        "  def registerPatient(self):\n",
        "    new_patient=Patient()\n",
        "    new_patient.id = 90#int(input(f'Entah ID: '))\n",
        "    new_patient.name = input(f'Entah Namaewa: ')\n",
        "    new_patient.age = 18#int(input(f'Entah age: '))\n",
        "    new_patient.bloodgroup = 'AB+'#input(f'Entah Bloodgroup: ')\n",
        "    self.tail.next = new_patient\n",
        "    new_patient.prev = self.tail\n",
        "    self.tail = new_patient\n",
        "    self.tail.next = self.head\n",
        "    self.head.prev = self.tail\n",
        "    self.length += 1\n",
        "\n",
        "  def servePatient(self):\n",
        "    if self.head.next.name!=None:\n",
        "      self.length -= 1\n",
        "      print(f'{self.head.next.name} was served')\n",
        "      if self.head.next!=self.tail:\n",
        "        temp = self.head.next\n",
        "        prep = temp.next\n",
        "        prep.prev = self.head\n",
        "        self.head.next = prep\n",
        "        temp.prev = None\n",
        "        temp.next = None\n",
        "      else:\n",
        "        temp = self.tail\n",
        "        temp.prev = None\n",
        "        temp.next = None\n",
        "        self.tail = self.head\n",
        "        self.head.next = self.tail\n",
        "        self.head.prev = self.tail\n",
        "        self.tail.next = self.head\n",
        "        self.tail.prev = self.head\n",
        "\n",
        "  def showAllPatient(self):\n",
        "    temp = self.head.next\n",
        "    while temp.name != None:\n",
        "      print(f'{temp.name}', end=' ')\n",
        "      temp = temp.next\n",
        "\n",
        "  def canDoctorGoHome(self):\n",
        "    if self.length == 1:\n",
        "      print(f'YAAAAS')\n",
        "    else:\n",
        "      print(f'NOOOOO')\n",
        "\n",
        "  def cancelAll(self):\n",
        "    temp = self.head.next\n",
        "    temp.prev = None\n",
        "    self.tail.next = None\n",
        "    self.head = self.tail\n",
        "    self.head.next = self.tail\n",
        "    self.head.prev = self.tail\n",
        "    self.tail.next = self.head\n",
        "    self.tail.prev = self.head\n",
        "    self.length = 1\n",
        "\n",
        "  def ReverseTheLine(self):\n",
        "    thead = self.head.next\n",
        "    thead.prev = None\n",
        "    self.head.next = None\n",
        "    self.head.prev = None\n",
        "    self.tail.next = None\n",
        "    thead, self.tail = self.tail, thead\n",
        "    temp = thead\n",
        "    prep = None\n",
        "    while temp!=None:\n",
        "      temp.next = temp.prev\n",
        "      temp.prev = prep\n",
        "      prep = temp\n",
        "      temp = temp.next\n",
        "    self.head.next = thead\n",
        "    thead.prev = self.head\n",
        "    self.head.prev = self.tail\n",
        "    self.tail.next = self.head\n",
        "    print(f'Success')\n",
        "\n",
        "pwl = WRM()\n",
        "pwl.registerPatient()\n",
        "pwl.registerPatient()\n",
        "pwl.registerPatient()\n",
        "pwl.servePatient()\n",
        "pwl.registerPatient()\n",
        "pwl.registerPatient()\n",
        "pwl.showAllPatient()\n",
        "pwl.canDoctorGoHome()\n",
        "# pwl.cancelAll()\n",
        "pwl.canDoctorGoHome()\n",
        "pwl.ReverseTheLine()\n",
        "pwl.showAllPatient()\n"
      ],
      "metadata": {
        "id": "dNx7zTJ1OZNv",
        "outputId": "9f3957a0-b8f7-4f99-a56e-25fd2e27f0d0",
        "colab": {
          "base_uri": "https://localhost:8080/"
        }
      },
      "execution_count": null,
      "outputs": [
        {
          "output_type": "stream",
          "name": "stdout",
          "text": [
            "Entah Namaewa: a\n",
            "Entah Namaewa: b\n",
            "Entah Namaewa: c\n",
            "a was served\n",
            "Entah Namaewa: d\n",
            "Entah Namaewa: e\n",
            "b c d e NOOOOO\n",
            "NOOOOO\n",
            "Success\n",
            "e d c b "
          ]
        }
      ]
    },
    {
      "cell_type": "code",
      "source": [
        "#Write a Tester Code in this cell\n",
        "print(\"**Welcome to Waiting Room Management System**\")\n"
      ],
      "metadata": {
        "id": "jKhbn1LAPfjr",
        "colab": {
          "base_uri": "https://localhost:8080/"
        },
        "outputId": "7d22e648-0860-4482-a48a-9b59f13d2c4b"
      },
      "execution_count": null,
      "outputs": [
        {
          "output_type": "stream",
          "name": "stdout",
          "text": [
            "**Welcome to Waiting Room Management System**\n"
          ]
        }
      ]
    },
    {
      "cell_type": "markdown",
      "source": [
        "**Assignment Part 2: Stack**\n",
        "\n",
        "Linked List based Stack is implemented in the following cell."
      ],
      "metadata": {
        "id": "CJWd_j6YEnPn"
      }
    },
    {
      "cell_type": "code",
      "source": [
        "class Node:\n",
        "  def __init__(self,elem=None,next=None):\n",
        "    self.elem = elem\n",
        "    self.next = next\n",
        "\n",
        "class Stack:\n",
        "  def __init__(self):\n",
        "    self.__top = None\n",
        "\n",
        "  def push(self,elem):\n",
        "    nn = Node(elem,self.__top)\n",
        "    self.__top = nn\n",
        "\n",
        "  def pop(self):\n",
        "    if self.__top == None:\n",
        "      #print('Stack Underflow')\n",
        "      return None\n",
        "    e = self.__top\n",
        "    self.__top = self.__top.next\n",
        "    e.next = None\n",
        "    return e.elem\n",
        "\n",
        "  def peek(self):\n",
        "    if self.__top == None:\n",
        "      #print('Stack Underflow')\n",
        "      return None\n",
        "    return self.__top.elem\n",
        "\n",
        "  def isEmpty(self):\n",
        "    return self.__top == None\n"
      ],
      "metadata": {
        "id": "KHLhs5x0D-O6"
      },
      "execution_count": 20,
      "outputs": []
    },
    {
      "cell_type": "code",
      "source": [
        "#You can run this driver code cell to understand the methods of Stack class\n",
        "st = Stack()\n",
        "st.push(4)\n",
        "st.push(3)\n",
        "st.push(5)\n",
        "st.push(1)\n",
        "st.push(9)\n",
        "\n",
        "print('Peeked Element: ',st.peek())\n",
        "print('Popped Element: ',st.pop())\n",
        "print('Popped Element: ',st.pop())\n",
        "print('Popped Element: ',st.pop())\n",
        "print('Peeked Element: ',st.peek())\n",
        "print('Popped Element: ',st.pop())\n",
        "print('Popped Element: ',st.pop())\n",
        "print('Peeked Element: ',st.peek())\n",
        "print('Popped Element: ',st.pop())\n",
        "print(st.isEmpty())"
      ],
      "metadata": {
        "id": "4XkuMA7gEjE7",
        "colab": {
          "base_uri": "https://localhost:8080/"
        },
        "outputId": "044244ab-1293-4212-e18a-f4fc0838d279"
      },
      "execution_count": 21,
      "outputs": [
        {
          "output_type": "stream",
          "name": "stdout",
          "text": [
            "Peeked Element:  9\n",
            "Popped Element:  9\n",
            "Popped Element:  1\n",
            "Popped Element:  5\n",
            "Peeked Element:  3\n",
            "Popped Element:  3\n",
            "Popped Element:  4\n",
            "Peeked Element:  None\n",
            "Popped Element:  None\n",
            "True\n"
          ]
        }
      ]
    },
    {
      "cell_type": "markdown",
      "source": [
        "You can print your stack using this code segment"
      ],
      "metadata": {
        "id": "xrfONLccG9Gi"
      }
    },
    {
      "cell_type": "code",
      "source": [
        "def print_stack(st):\n",
        "  if st.isEmpty():\n",
        "    return\n",
        "  p = st.pop()\n",
        "  print('|',p,end=' ')\n",
        "  if p<10:\n",
        "    print(' |')\n",
        "  else:\n",
        "    print('|')\n",
        "  print('------')\n",
        "  print_stack(st)\n",
        "  st.push(p)\n",
        "\n",
        "st = Stack()\n",
        "st.push(4)\n",
        "st.push(3)\n",
        "st.push(5)\n",
        "st.push(1)\n",
        "st.push(9)\n",
        "print_stack(st)\n",
        "print('------')"
      ],
      "metadata": {
        "id": "S-EembO_GsWA",
        "colab": {
          "base_uri": "https://localhost:8080/"
        },
        "outputId": "e22a1deb-cd51-445d-ced3-e6b51442273e"
      },
      "execution_count": 6,
      "outputs": [
        {
          "output_type": "stream",
          "name": "stdout",
          "text": [
            "| 9  |\n",
            "------\n",
            "| 1  |\n",
            "------\n",
            "| 5  |\n",
            "------\n",
            "| 3  |\n",
            "------\n",
            "| 4  |\n",
            "------\n",
            "------\n"
          ]
        }
      ]
    },
    {
      "cell_type": "markdown",
      "source": [
        "Task 1: Diamond Count"
      ],
      "metadata": {
        "id": "iNMnfqqpIga2"
      }
    },
    {
      "cell_type": "code",
      "source": [
        "def diamond_count(stack,string):\n",
        "  l_count = 0\n",
        "  r_count = 0\n",
        "  for i in range(len(string)):\n",
        "    stack.push(string[i])\n",
        "\n",
        "  while stack.peek()!=None:\n",
        "    if stack.peek()=='>':\n",
        "      stack.pop()\n",
        "      l_count+=1\n",
        "    elif stack.peek()=='<':\n",
        "      stack.pop()\n",
        "      r_count += 1\n",
        "    else:\n",
        "      stack.pop()\n",
        "\n",
        "  if l_count==r_count:\n",
        "    return l_count\n",
        "  if l_count<r_count:\n",
        "    return l_count\n",
        "  else:\n",
        "    return r_count\n",
        "\n",
        "print('Test 01')\n",
        "stack = Stack()\n",
        "string = '<..><.<..>>'\n",
        "returned_value = diamond_count(stack,string)\n",
        "print(f'Number of Diamonds: {returned_value}') #This should print 3\n",
        "#unittest.output_test(returned_value, 3)\n",
        "print('-----------------------------------------')\n",
        "\n",
        "\n",
        "print('Test 02')\n",
        "stack = Stack()\n",
        "string = '<<<..<......<<<<....>'\n",
        "returned_value = diamond_count(stack,string)\n",
        "print(f'Number of Diamonds: {returned_value}') #This should print 1\n",
        "#unittest.output_test(returned_value, 1)\n",
        "print('-----------------------------------------')\n",
        "\n",
        "\n",
        "print('Test 03')\n",
        "stack = Stack()\n",
        "string = '>>><...<<..>>...>...>>>'\n",
        "returned_value = diamond_count(stack,string)\n",
        "print(f'Number of Diamonds: {returned_value}') #This should print 3\n",
        "#unittest.output_test(returned_value, 3)\n",
        "print('-----------------------------------------')"
      ],
      "metadata": {
        "id": "GnX70OIvG_gZ",
        "colab": {
          "base_uri": "https://localhost:8080/"
        },
        "outputId": "df74b85a-231b-4126-8f72-373ab35ac124"
      },
      "execution_count": 39,
      "outputs": [
        {
          "output_type": "stream",
          "name": "stdout",
          "text": [
            "Test 01\n",
            "Number of Diamonds: 3\n",
            "-----------------------------------------\n",
            "Test 02\n",
            "Number of Diamonds: 1\n",
            "-----------------------------------------\n",
            "Test 03\n",
            "Number of Diamonds: 3\n",
            "-----------------------------------------\n"
          ]
        }
      ]
    },
    {
      "cell_type": "markdown",
      "source": [
        "Task 2: Tower of Blocks"
      ],
      "metadata": {
        "id": "PhCF3SZ6IX5g"
      }
    },
    {
      "cell_type": "code",
      "source": [
        "def remove_block(stack, n):\n",
        "  n_st = Stack()\n",
        "  for i in range(n):\n",
        "    if i!=n-1:\n",
        "      e = stack.pop()\n",
        "      n_st.push(e)\n",
        "    else:\n",
        "      f = stack.pop()\n",
        "\n",
        "  for i in range(n-1):\n",
        "    k = n_st.pop()\n",
        "    stack.push(k)\n",
        "\n",
        "print('Test 01')\n",
        "st = Stack()\n",
        "st.push(4)\n",
        "st.push(19)\n",
        "st.push(23)\n",
        "st.push(17)\n",
        "st.push(5)\n",
        "print('Stack:')\n",
        "print_stack(st)\n",
        "print('------')\n",
        "remove_block(st,2)\n",
        "print('After Removal')\n",
        "print_stack(st)\n",
        "print('------')\n",
        "\n",
        "print()\n",
        "print('======================================')\n",
        "print()\n",
        "\n",
        "print('Test 02')\n",
        "st = Stack()\n",
        "st.push(73)\n",
        "st.push(85)\n",
        "st.push(15)\n",
        "st.push(41)\n",
        "print('Stack:')\n",
        "print_stack(st)\n",
        "print('------')\n",
        "remove_block(st,3)\n",
        "print('After Removal')\n",
        "print_stack(st)\n",
        "print('------')\n",
        "\n",
        "print()\n",
        "print('======================================')\n",
        "print()"
      ],
      "metadata": {
        "id": "W3N4q7YAHExr",
        "colab": {
          "base_uri": "https://localhost:8080/"
        },
        "outputId": "3818dbc9-13d5-4db1-f075-e8268b79ebe9"
      },
      "execution_count": 31,
      "outputs": [
        {
          "output_type": "stream",
          "name": "stdout",
          "text": [
            "Test 01\n",
            "Stack:\n",
            "| 5  |\n",
            "------\n",
            "| 17 |\n",
            "------\n",
            "| 23 |\n",
            "------\n",
            "| 19 |\n",
            "------\n",
            "| 4  |\n",
            "------\n",
            "------\n",
            "After Removal\n",
            "| 5  |\n",
            "------\n",
            "| 23 |\n",
            "------\n",
            "| 19 |\n",
            "------\n",
            "| 4  |\n",
            "------\n",
            "------\n",
            "\n",
            "======================================\n",
            "\n",
            "Test 02\n",
            "Stack:\n",
            "| 41 |\n",
            "------\n",
            "| 15 |\n",
            "------\n",
            "| 85 |\n",
            "------\n",
            "| 73 |\n",
            "------\n",
            "------\n",
            "After Removal\n",
            "| 41 |\n",
            "------\n",
            "| 15 |\n",
            "------\n",
            "| 73 |\n",
            "------\n",
            "------\n",
            "\n",
            "======================================\n",
            "\n"
          ]
        }
      ]
    },
    {
      "cell_type": "markdown",
      "source": [
        "Task 3: Stack Reverse"
      ],
      "metadata": {
        "id": "jcngRuqUWOfl"
      }
    },
    {
      "cell_type": "code",
      "source": [
        "from pickle import EMPTY_LIST\n",
        "def conditional_reverse(stack):\n",
        "  n_st = Stack()\n",
        "  p_st = Stack()\n",
        "  count = 0\n",
        "  checker = []\n",
        "  while st.peek()!=None:\n",
        "    e = st.pop()\n",
        "    if count == 0:\n",
        "      checker.append(e)\n",
        "      n_st.push(e)\n",
        "      count+=1\n",
        "    elif e != checker[count-1]:\n",
        "      checker.append(e)\n",
        "      n_st.push(e)\n",
        "      count+=1\n",
        "    else:\n",
        "      pass\n",
        "\n",
        "  while n_st.peek()!= None:\n",
        "    p_st.push(n_st.pop())\n",
        "  while p_st.peek()!=None:\n",
        "    st.push(p_st.pop())\n",
        "  print('==========')\n",
        "\n",
        "  while st.peek()!=None:\n",
        "    print(f'| {st.pop()} |')\n",
        "    print('------')\n",
        "\n",
        "\n",
        "\n",
        "print('Test 01')\n",
        "st=Stack()\n",
        "st.push(10)\n",
        "st.push(10)\n",
        "st.push(20)\n",
        "st.push(20)\n",
        "st.push(30)\n",
        "st.push(10)\n",
        "st.push(50)\n",
        "print('Stack:')\n",
        "print_stack(st)\n",
        "print('------')\n",
        "reversed_stack=conditional_reverse(st)\n",
        "print('Conditional Reversed Stack:')\n",
        "#print_stack(reversed_stack) # This stack contains 50, 10, 30, 20, 10 in this order whereas top element should be 10\n",
        "print('------')"
      ],
      "metadata": {
        "id": "gLSgfDKPWPnP",
        "colab": {
          "base_uri": "https://localhost:8080/"
        },
        "outputId": "13afff72-41e5-4715-edc2-11f87e902277"
      },
      "execution_count": 91,
      "outputs": [
        {
          "output_type": "stream",
          "name": "stdout",
          "text": [
            "Test 01\n",
            "Stack:\n",
            "| 50 |\n",
            "------\n",
            "| 10 |\n",
            "------\n",
            "| 30 |\n",
            "------\n",
            "| 20 |\n",
            "------\n",
            "| 20 |\n",
            "------\n",
            "| 10 |\n",
            "------\n",
            "| 10 |\n",
            "------\n",
            "------\n",
            "==========\n",
            "| 10 |\n",
            "------\n",
            "| 20 |\n",
            "------\n",
            "| 30 |\n",
            "------\n",
            "| 10 |\n",
            "------\n",
            "| 50 |\n",
            "------\n",
            "Conditional Reversed Stack:\n",
            "------\n"
          ]
        }
      ]
    },
    {
      "cell_type": "code",
      "source": [],
      "metadata": {
        "id": "ZmQJhZq8gmcU"
      },
      "execution_count": null,
      "outputs": []
    }
  ]
}