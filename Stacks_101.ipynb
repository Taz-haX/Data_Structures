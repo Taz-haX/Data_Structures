{
  "nbformat": 4,
  "nbformat_minor": 0,
  "metadata": {
    "colab": {
      "provenance": [],
      "authorship_tag": "ABX9TyM5f0HMZZi9dMqoEPqejChD",
      "include_colab_link": true
    },
    "kernelspec": {
      "name": "python3",
      "display_name": "Python 3"
    },
    "language_info": {
      "name": "python"
    }
  },
  "cells": [
    {
      "cell_type": "markdown",
      "metadata": {
        "id": "view-in-github",
        "colab_type": "text"
      },
      "source": [
        "<a href=\"https://colab.research.google.com/github/Taz-haX/Data_Structures/blob/main/Stacks_101.ipynb\" target=\"_parent\"><img src=\"https://colab.research.google.com/assets/colab-badge.svg\" alt=\"Open In Colab\"/></a>"
      ]
    },
    {
      "cell_type": "code",
      "execution_count": 2,
      "metadata": {
        "colab": {
          "base_uri": "https://localhost:8080/"
        },
        "id": "5B9QRVgTRGpr",
        "outputId": "60fe0b2d-76eb-40cd-c827-85d7e1ffd5cd"
      },
      "outputs": [
        {
          "output_type": "stream",
          "name": "stdout",
          "text": [
            "7\n",
            "==========\n",
            "45\n",
            "5\n",
            "6\n",
            "44\n",
            "7\n",
            "==========\n",
            "45\n",
            "=====\n",
            "5\n",
            "6\n",
            "44\n",
            "7\n",
            "==========\n"
          ]
        }
      ],
      "source": [
        "class Node:\n",
        "    def __init__(self, value):\n",
        "        self.value = value\n",
        "        self.next = None\n",
        "\n",
        "class Stack:\n",
        "    def __init__(self, value):\n",
        "        new_node = Node(value)\n",
        "        self.top = new_node\n",
        "        self.height = 1\n",
        "\n",
        "    def push(self, value):\n",
        "        new_node = Node(value)\n",
        "        if self.height == 0:\n",
        "            self.top = new_node\n",
        "            self.height = 1\n",
        "        else:\n",
        "            new_node.next = self.top\n",
        "            self.top = new_node\n",
        "            self.height += 1\n",
        "\n",
        "    def pop(self):\n",
        "        if self.height == 0:\n",
        "            return None\n",
        "        else:\n",
        "            temp = self.top\n",
        "            self.top = temp.next\n",
        "            temp.next = None\n",
        "            return temp.value\n",
        "\n",
        "    def show_Stack(self):\n",
        "        temp = self.top\n",
        "        while temp != None:\n",
        "            if temp.next != None:\n",
        "                print(f'{temp.value}')\n",
        "            else:\n",
        "                print(f'{temp.value}')\n",
        "            temp = temp.next\n",
        "        print('==========')\n",
        "\n",
        "s1 = Stack(7)\n",
        "s1.show_Stack()\n",
        "s1.push(44)\n",
        "s1.push(6)\n",
        "s1.push(5)\n",
        "s1.push(45)\n",
        "s1.show_Stack()\n",
        "print(s1.pop())\n",
        "print('=====')\n",
        "s1.show_Stack()"
      ]
    }
  ]
}