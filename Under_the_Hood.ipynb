{
  "nbformat": 4,
  "nbformat_minor": 0,
  "metadata": {
    "colab": {
      "provenance": [],
      "authorship_tag": "ABX9TyPXNDeceiILhpNsFEN6TkrG",
      "include_colab_link": true
    },
    "kernelspec": {
      "name": "python3",
      "display_name": "Python 3"
    },
    "language_info": {
      "name": "python"
    }
  },
  "cells": [
    {
      "cell_type": "markdown",
      "metadata": {
        "id": "view-in-github",
        "colab_type": "text"
      },
      "source": [
        "<a href=\"https://colab.research.google.com/github/Taz-haX/Data_Structures/blob/main/Under_the_Hood.ipynb\" target=\"_parent\"><img src=\"https://colab.research.google.com/assets/colab-badge.svg\" alt=\"Open In Colab\"/></a>"
      ]
    },
    {
      "cell_type": "code",
      "execution_count": 1,
      "metadata": {
        "colab": {
          "base_uri": "https://localhost:8080/"
        },
        "id": "ZC7QRYpZuB32",
        "outputId": "9ea9f752-351a-498d-9a08-5fe43f897941"
      },
      "outputs": [
        {
          "output_type": "stream",
          "name": "stdout",
          "text": [
            "2\n"
          ]
        }
      ],
      "source": [
        "head = {\n",
        "    'Value':7,\n",
        "    'Next':{\n",
        "        'Value':4,\n",
        "        'Next':{\n",
        "            'Value':3,\n",
        "            'Next':{\n",
        "                'Value':2,\n",
        "                'Next':{\n",
        "                    'Value':1,\n",
        "                    'Next':None\n",
        "                }\n",
        "            }\n",
        "        }\n",
        "    }\n",
        "}\n",
        "\n",
        "print(head['Next']['Next']['Next']['Value'])"
      ]
    }
  ]
}