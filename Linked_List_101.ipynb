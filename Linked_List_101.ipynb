{
  "nbformat": 4,
  "nbformat_minor": 0,
  "metadata": {
    "colab": {
      "provenance": [],
      "authorship_tag": "ABX9TyP+kw7ixcbkW/7ROTPJW62q",
      "include_colab_link": true
    },
    "kernelspec": {
      "name": "python3",
      "display_name": "Python 3"
    },
    "language_info": {
      "name": "python"
    }
  },
  "cells": [
    {
      "cell_type": "markdown",
      "metadata": {
        "id": "view-in-github",
        "colab_type": "text"
      },
      "source": [
        "<a href=\"https://colab.research.google.com/github/Taz-haX/Data_Structures/blob/main/Linked_List_101.ipynb\" target=\"_parent\"><img src=\"https://colab.research.google.com/assets/colab-badge.svg\" alt=\"Open In Colab\"/></a>"
      ]
    },
    {
      "cell_type": "code",
      "execution_count": 3,
      "metadata": {
        "colab": {
          "base_uri": "https://localhost:8080/"
        },
        "id": "gNv-DXo94NEa",
        "outputId": "04a3d08b-bf52-422e-9b66-b867f7af31bd"
      },
      "outputs": [
        {
          "output_type": "stream",
          "name": "stdout",
          "text": [
            "3\n",
            "2\n",
            "7\n",
            "3==>0==>1==>2==>3==>4==>5==>6==>7==>\n",
            "7\n",
            "3==>0==>1==>2==>3==>4==>5==>6==>4==>"
          ]
        }
      ],
      "source": [
        "#Constructor and append\n",
        "\n",
        "class Node:\n",
        "    def __init__(self, value):\n",
        "        self.value = value\n",
        "        self.next = None\n",
        "\n",
        "class LinkedList:\n",
        "    def __init__(self, value):\n",
        "        length = 0\n",
        "        self.length = length\n",
        "        new_node = Node(value)\n",
        "        self.head = new_node\n",
        "        self.tail = new_node\n",
        "        self.length += 1\n",
        "\n",
        "    def norm_append(self, value):\n",
        "        g_node = Node(value)\n",
        "        self.tail.next = g_node\n",
        "        self.tail = g_node\n",
        "        self.length +=1\n",
        "        return self.head\n",
        "\n",
        "    def rolling_append(self, value):\n",
        "        for i in range(value):\n",
        "            n_node = Node(i)\n",
        "            self.tail.next = n_node\n",
        "            self.tail = n_node\n",
        "            self.length += 1\n",
        "        return self.head\n",
        "\n",
        "    def pop(self):\n",
        "        popper = self.head\n",
        "        if self.length>2:\n",
        "            while popper.next.next is not None:\n",
        "                popper = popper.next\n",
        "                if popper.next.next is None:\n",
        "                    break\n",
        "        elif self.length == 2:\n",
        "            popper = self.head\n",
        "        pot = self.tail\n",
        "        self.tail = popper\n",
        "        self.tail.next = None\n",
        "        return pot.value\n",
        "\n",
        "    def printDetails(self):\n",
        "        temp = self.head\n",
        "        while temp is not None:\n",
        "            print(f'{temp.value}==>',end='')\n",
        "            temp = temp.next\n",
        "\n",
        "bot = LinkedList(3)\n",
        "bot.rolling_append(8)\n",
        "print(bot.head.value)\n",
        "print(bot.head.next.next.next.value)\n",
        "print(bot.tail.value)\n",
        "bot.printDetails()\n",
        "print()\n",
        "print(bot.pop())\n",
        "bot.norm_append(4)\n",
        "bot.printDetails()"
      ]
    }
  ]
}