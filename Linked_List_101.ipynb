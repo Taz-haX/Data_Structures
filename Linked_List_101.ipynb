{
  "nbformat": 4,
  "nbformat_minor": 0,
  "metadata": {
    "colab": {
      "provenance": [],
      "authorship_tag": "ABX9TyM+Cht40qvWXZEmAw+8gBXf",
      "include_colab_link": true
    },
    "kernelspec": {
      "name": "python3",
      "display_name": "Python 3"
    },
    "language_info": {
      "name": "python"
    }
  },
  "cells": [
    {
      "cell_type": "markdown",
      "metadata": {
        "id": "view-in-github",
        "colab_type": "text"
      },
      "source": [
        "<a href=\"https://colab.research.google.com/github/Taz-haX/Data_Structures/blob/main/Linked_List_101.ipynb\" target=\"_parent\"><img src=\"https://colab.research.google.com/assets/colab-badge.svg\" alt=\"Open In Colab\"/></a>"
      ]
    },
    {
      "cell_type": "code",
      "execution_count": 2,
      "metadata": {
        "colab": {
          "base_uri": "https://localhost:8080/"
        },
        "id": "gNv-DXo94NEa",
        "outputId": "52bcee9a-2e6a-44a0-f395-2b53649150b6"
      },
      "outputs": [
        {
          "output_type": "stream",
          "name": "stdout",
          "text": [
            "3\n",
            "2\n",
            "7\n",
            "3==>0==>1==>2==>3==>4==>5==>6==>7\n"
          ]
        }
      ],
      "source": [
        "#Constructor and append\n",
        "\n",
        "class Node:\n",
        "    def __init__(self, value):\n",
        "        self.value = value\n",
        "        self.next = None\n",
        "\n",
        "class LinkedList:\n",
        "    emp=''\n",
        "    def __init__(self, value):\n",
        "        new_node = Node(value)\n",
        "        self.head = new_node\n",
        "        self.tail = new_node\n",
        "\n",
        "    def rolling_append(self, value):\n",
        "        for i in range(value):\n",
        "            n_node = Node(i)\n",
        "            self.tail.next = n_node\n",
        "            self.tail = n_node\n",
        "            LinkedList.emp += f'==>{self.tail.value}'\n",
        "        return self.head\n",
        "\n",
        "    def printDetails(self):\n",
        "        print(f'{self.head.value}{LinkedList.emp}')\n",
        "\n",
        "bot = LinkedList(3)\n",
        "bot.rolling_append(8)\n",
        "print(bot.head.value)\n",
        "print(bot.head.next.next.next.value)\n",
        "print(bot.tail.value)\n",
        "bot.printDetails()"
      ]
    }
  ]
}