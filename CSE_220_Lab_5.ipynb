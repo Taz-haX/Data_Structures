{
  "nbformat": 4,
  "nbformat_minor": 0,
  "metadata": {
    "colab": {
      "provenance": [],
      "authorship_tag": "ABX9TyPn8jy2TsE2A2BnCoWVm/87",
      "include_colab_link": true
    },
    "kernelspec": {
      "name": "python3",
      "display_name": "Python 3"
    },
    "language_info": {
      "name": "python"
    }
  },
  "cells": [
    {
      "cell_type": "markdown",
      "metadata": {
        "id": "view-in-github",
        "colab_type": "text"
      },
      "source": [
        "<a href=\"https://colab.research.google.com/github/Taz-haX/Data_Structures/blob/main/CSE_220_Lab_5.ipynb\" target=\"_parent\"><img src=\"https://colab.research.google.com/assets/colab-badge.svg\" alt=\"Open In Colab\"/></a>"
      ]
    },
    {
      "cell_type": "code",
      "source": [
        "# TASK_1\n",
        "\n",
        "# Implement a recursive algorithm to find factorial of n.\n",
        "\n",
        "def factorial(n):\n",
        "  if n == 1:\n",
        "    return 1\n",
        "  else:\n",
        "    return n*factorial(n-1)\n",
        "\n",
        "bop = factorial(4)\n",
        "print(bop)"
      ],
      "metadata": {
        "colab": {
          "base_uri": "https://localhost:8080/"
        },
        "id": "rCphH5c3A5IS",
        "outputId": "2fc7b76d-a22f-45b7-bdd8-ca7a5c0a3337"
      },
      "execution_count": 8,
      "outputs": [
        {
          "output_type": "stream",
          "name": "stdout",
          "text": [
            "24\n"
          ]
        }
      ]
    },
    {
      "cell_type": "code",
      "execution_count": 9,
      "metadata": {
        "colab": {
          "base_uri": "https://localhost:8080/"
        },
        "id": "aflSE1dBAruj",
        "outputId": "2a91916b-7b7c-442e-f92b-c32debfa2834"
      },
      "outputs": [
        {
          "output_type": "stream",
          "name": "stdout",
          "text": [
            "21\n"
          ]
        }
      ],
      "source": [
        "# TASK_2\n",
        "\n",
        "# Implement a recursive algorithm to find the n-th Fibonacci number.\n",
        "\n",
        "def fibonacci(n):\n",
        "    if n == 0:\n",
        "        return 0\n",
        "    elif n == 1:\n",
        "        return 1\n",
        "    else:\n",
        "        return fibonacci(n-1)+fibonacci(n-2)\n",
        "\n",
        "f = fibonacci(8)\n",
        "print(f)"
      ]
    },
    {
      "cell_type": "code",
      "source": [
        "# TASK_3\n",
        "\n",
        "# Print all the elements of a given array recursively.\n",
        "\n",
        "def lisanalghaib(l):\n",
        "    if l == []:\n",
        "        return\n",
        "    else:\n",
        "        print(l[0])\n",
        "        return lisanalghaib(l[1:])\n",
        "\n",
        "tok = [1,2,3,4,5]\n",
        "\n",
        "lisanalghaib(tok)"
      ],
      "metadata": {
        "colab": {
          "base_uri": "https://localhost:8080/"
        },
        "id": "_x8iGwjZmUK9",
        "outputId": "b70f9f71-c4b8-48e6-98f3-cd7eb2cbd05f"
      },
      "execution_count": 2,
      "outputs": [
        {
          "output_type": "stream",
          "name": "stdout",
          "text": [
            "1\n",
            "2\n",
            "3\n",
            "4\n",
            "5\n"
          ]
        }
      ]
    },
    {
      "cell_type": "code",
      "source": [
        "# TASK_4\n",
        "\n",
        "# Given base and n that are both 1 or more, compute recursively (no loops)\n",
        "# the value of base to the n power, so powerN(3, 2) is 9 (3 squared). powerN(3, 1) → 3 powerN(3, 2) → 9 powerN(3, 3) → 27\n",
        "\n",
        "def power(b,n,c=0):\n",
        "    if n == c:\n",
        "        return 1\n",
        "    else:\n",
        "        return b * power(b, n, c+1)\n",
        "\n",
        "print(power(3,3))"
      ],
      "metadata": {
        "colab": {
          "base_uri": "https://localhost:8080/"
        },
        "id": "4xIj3IELA4IK",
        "outputId": "9e6008cf-b2ed-4ff1-985b-d40023db67ae"
      },
      "execution_count": 1,
      "outputs": [
        {
          "output_type": "stream",
          "name": "stdout",
          "text": [
            "27\n"
          ]
        }
      ]
    }
  ]
}