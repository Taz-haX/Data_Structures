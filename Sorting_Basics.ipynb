{
  "nbformat": 4,
  "nbformat_minor": 0,
  "metadata": {
    "colab": {
      "provenance": [],
      "authorship_tag": "ABX9TyN3lCsvGKVRJDMHLMl17JZJ",
      "include_colab_link": true
    },
    "kernelspec": {
      "name": "python3",
      "display_name": "Python 3"
    },
    "language_info": {
      "name": "python"
    }
  },
  "cells": [
    {
      "cell_type": "markdown",
      "metadata": {
        "id": "view-in-github",
        "colab_type": "text"
      },
      "source": [
        "<a href=\"https://colab.research.google.com/github/Taz-haX/Data_Structures/blob/main/Sorting_Basics.ipynb\" target=\"_parent\"><img src=\"https://colab.research.google.com/assets/colab-badge.svg\" alt=\"Open In Colab\"/></a>"
      ]
    },
    {
      "cell_type": "markdown",
      "source": [
        "##Insertion_Sort"
      ],
      "metadata": {
        "id": "2VgwsBpiJSBi"
      }
    },
    {
      "cell_type": "code",
      "execution_count": 1,
      "metadata": {
        "colab": {
          "base_uri": "https://localhost:8080/"
        },
        "id": "egRm64r1I1FP",
        "outputId": "ed7fb0cc-e25f-471f-b397-a883c3fcc23a"
      },
      "outputs": [
        {
          "output_type": "stream",
          "name": "stdout",
          "text": [
            "[1, 2, 3, 4, 5, 6]\n"
          ]
        }
      ],
      "source": [
        "list_1 = [6,4,3,2,5,1]\n",
        "\n",
        "def insert_sort(lis):\n",
        "    for i in range(len(lis)):\n",
        "        temp = lis[i]\n",
        "        j = i-1\n",
        "        while temp < lis[j] and j > -1:\n",
        "            lis[j+1] = lis[j]\n",
        "            lis[j] = temp\n",
        "            j -= 1\n",
        "\n",
        "insert_sort(list_1)\n",
        "\n",
        "print(list_1)\n"
      ]
    },
    {
      "cell_type": "markdown",
      "source": [
        "##Selection_Sort"
      ],
      "metadata": {
        "id": "Q_1MOGTHJcwY"
      }
    },
    {
      "cell_type": "code",
      "source": [
        "def selective_sort(lis):\n",
        "    for i in range(len(lis)):\n",
        "        min_index = i\n",
        "        for j in range(i+1,len(lis)):\n",
        "            if lis[j]<lis[min_index]:\n",
        "                min_index = j\n",
        "        if i != min_index:\n",
        "            lis[min_index],lis[i] = lis[i],lis[min_index]\n",
        "\n",
        "\n",
        "\n",
        "ll = [3,2,5,6,7]\n",
        "\n",
        "selective_sort(ll)\n",
        "print(ll)"
      ],
      "metadata": {
        "colab": {
          "base_uri": "https://localhost:8080/"
        },
        "id": "znLwRMMgJZgF",
        "outputId": "d27a143a-19c8-49fa-8224-ca40b0f9b9fe"
      },
      "execution_count": 2,
      "outputs": [
        {
          "output_type": "stream",
          "name": "stdout",
          "text": [
            "[2, 3, 5, 6, 7]\n"
          ]
        }
      ]
    },
    {
      "cell_type": "markdown",
      "source": [
        "##Bubble_Sort"
      ],
      "metadata": {
        "id": "FEeC4Pq-R9_k"
      }
    },
    {
      "cell_type": "code",
      "source": [
        "def bubble_sort(lis):\n",
        "  for i in range(len(lis)):\n",
        "    for j in range(len(lis)-1):\n",
        "      if lis[j]>lis[j+1]:\n",
        "        lis[j], lis[j+1] = lis[j+1], lis[j]\n",
        "\n",
        "list_1 = [3,5,2,1,4]\n",
        "bubble_sort(list_1)\n",
        "print(list_1)"
      ],
      "metadata": {
        "colab": {
          "base_uri": "https://localhost:8080/"
        },
        "id": "YJFvJSNJJg7t",
        "outputId": "0df42abb-e078-41a8-a6dd-8eaed1333308"
      },
      "execution_count": 8,
      "outputs": [
        {
          "output_type": "stream",
          "name": "stdout",
          "text": [
            "[1, 2, 3, 4, 5]\n"
          ]
        }
      ]
    }
  ]
}