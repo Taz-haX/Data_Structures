{
  "nbformat": 4,
  "nbformat_minor": 0,
  "metadata": {
    "colab": {
      "provenance": [],
      "authorship_tag": "ABX9TyMxDA/ufvcn3jAlra1f00Cm",
      "include_colab_link": true
    },
    "kernelspec": {
      "name": "python3",
      "display_name": "Python 3"
    },
    "language_info": {
      "name": "python"
    }
  },
  "cells": [
    {
      "cell_type": "markdown",
      "metadata": {
        "id": "view-in-github",
        "colab_type": "text"
      },
      "source": [
        "<a href=\"https://colab.research.google.com/github/Taz-haX/Data_Structures/blob/main/Recursive_BInary_Search_Tress.ipynb\" target=\"_parent\"><img src=\"https://colab.research.google.com/assets/colab-badge.svg\" alt=\"Open In Colab\"/></a>"
      ]
    },
    {
      "cell_type": "code",
      "execution_count": 2,
      "metadata": {
        "colab": {
          "base_uri": "https://localhost:8080/"
        },
        "id": "rgCG1XveDAnQ",
        "outputId": "e17960c3-4aec-4cf5-e830-e55c1cbb7913"
      },
      "outputs": [
        {
          "output_type": "stream",
          "name": "stdout",
          "text": [
            "None\n",
            "56\n",
            "None\n",
            "(67, True)\n",
            "(77, False)\n",
            "(34, True)\n"
          ]
        }
      ],
      "source": [
        "class Node:\n",
        "    def __init__(self, value):\n",
        "        self.value = value\n",
        "        self.right = None\n",
        "        self.left = None\n",
        "\n",
        "class Binary_Search_Trees:\n",
        "    def __init__(self):\n",
        "        self.root = None\n",
        "\n",
        "    # def insert(self, value):\n",
        "    #     new_node = Node(value)\n",
        "    #     if self.root == None:\n",
        "    #         self.root = new_node\n",
        "    #\n",
        "    #     temp = self.head\n",
        "    #     while True:\n",
        "    #         if value == temp.value:\n",
        "    #             return False\n",
        "    #         if value > temp.value:\n",
        "    #             if temp.right is None:\n",
        "    #                 temp.right = new_node\n",
        "    #                 return True\n",
        "    #             temp = temp.right\n",
        "    #         if value < temp.value:\n",
        "    #             if temp.left is None:\n",
        "    #                 temp.left = new_node\n",
        "    #                 return True\n",
        "    #             temp = temp.left\n",
        "\n",
        "    # def contains(self, value):\n",
        "    #     temp = self.root\n",
        "    #     while temp != None:\n",
        "    #         if value > temp.value:\n",
        "    #             temp = temp.right\n",
        "    #         elif value < temp.value:\n",
        "    #             temp = temp.left\n",
        "    #         else:\n",
        "    #             return temp.value, True\n",
        "    #     return value, False\n",
        "\n",
        "    def __r_contains(self, current_node, value):\n",
        "        if current_node == None:\n",
        "            return value, False\n",
        "        if value == current_node.value:\n",
        "            return current_node.value, True\n",
        "        if value>current_node.value:\n",
        "            return self.__r_contains(current_node.right, value)\n",
        "        if value<current_node.value:\n",
        "            return self.__r_contains(current_node.left, value)\n",
        "\n",
        "    def r_contains(self, value):\n",
        "        return self.__r_contains(self.root, value)\n",
        "\n",
        "    def __r_insert(self, current_node, value):\n",
        "        if current_node == None:\n",
        "            return Node(value)\n",
        "        if value > current_node.value:\n",
        "            current_node.right = self.__r_insert(current_node.right, value)\n",
        "        if value < current_node.value:\n",
        "            current_node.left = self.__r_insert(current_node.left, value)\n",
        "        return current_node\n",
        "\n",
        "    def r_insert(self, value):\n",
        "        if self.root == None:\n",
        "            self.root = Node(value)\n",
        "        else:\n",
        "            self.__r_insert(self.root, value)\n",
        "\n",
        "bst = Binary_Search_Trees()\n",
        "bst.r_insert(67)\n",
        "print(bst.root.left)\n",
        "bst.r_insert(68)\n",
        "bst.r_insert(34)\n",
        "bst.r_insert(56)\n",
        "bst.r_insert(23)\n",
        "bst.r_insert(90)\n",
        "print(bst.root.left.right.value)\n",
        "print(bst.r_insert(34))\n",
        "print(bst.r_contains(67))\n",
        "print(bst.r_contains(77))\n",
        "print(bst.r_contains(34))"
      ]
    }
  ]
}