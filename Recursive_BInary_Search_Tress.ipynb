{
  "nbformat": 4,
  "nbformat_minor": 0,
  "metadata": {
    "colab": {
      "provenance": [],
      "authorship_tag": "ABX9TyN+U5vu0ha5h55uWEnR6Mah",
      "include_colab_link": true
    },
    "kernelspec": {
      "name": "python3",
      "display_name": "Python 3"
    },
    "language_info": {
      "name": "python"
    }
  },
  "cells": [
    {
      "cell_type": "markdown",
      "metadata": {
        "id": "view-in-github",
        "colab_type": "text"
      },
      "source": [
        "<a href=\"https://colab.research.google.com/github/Taz-haX/Data_Structures/blob/main/Recursive_BInary_Search_Tress.ipynb\" target=\"_parent\"><img src=\"https://colab.research.google.com/assets/colab-badge.svg\" alt=\"Open In Colab\"/></a>"
      ]
    },
    {
      "cell_type": "code",
      "execution_count": 1,
      "metadata": {
        "colab": {
          "base_uri": "https://localhost:8080/"
        },
        "id": "rgCG1XveDAnQ",
        "outputId": "4fc487e8-7d08-4ef2-f3ef-4821d356a843"
      },
      "outputs": [
        {
          "output_type": "stream",
          "name": "stdout",
          "text": [
            "True\n",
            "False\n",
            "(56, True)\n",
            "(77, False)\n"
          ]
        }
      ],
      "source": [
        "class Node:\n",
        "    def __init__(self, value):\n",
        "        self.value = value\n",
        "        self.right = None\n",
        "        self.left = None\n",
        "\n",
        "class Binary_Search_Trees:\n",
        "    def __init__(self):\n",
        "        self.head = None\n",
        "\n",
        "    def insert(self, value):\n",
        "        new_node = Node(value)\n",
        "        if self.head == None:\n",
        "            self.head = new_node\n",
        "\n",
        "        temp = self.head\n",
        "        while True:\n",
        "            if value == temp.value:\n",
        "                return False\n",
        "            if value > temp.value:\n",
        "                if temp.right is None:\n",
        "                    temp.right = new_node\n",
        "                    return True\n",
        "                temp = temp.right\n",
        "            if value < temp.value:\n",
        "                if temp.left is None:\n",
        "                    temp.left = new_node\n",
        "                    return True\n",
        "                temp = temp.left\n",
        "\n",
        "    # def contains(self, value):\n",
        "    #     temp = self.head\n",
        "    #     while temp != None:\n",
        "    #         if value > temp.value:\n",
        "    #             temp = temp.right\n",
        "    #         elif value < temp.value:\n",
        "    #             temp = temp.left\n",
        "    #         else:\n",
        "    #             return temp.value, True\n",
        "    #     return value, False\n",
        "\n",
        "    def __contains(self, current_node, value):\n",
        "        if current_node == None:\n",
        "            return value, False\n",
        "        if value == current_node.value:\n",
        "            return current_node.value, True\n",
        "        if value>current_node.value:\n",
        "            return self.__contains(current_node.right, value)\n",
        "        if value<current_node.value:\n",
        "            return self.__contains(current_node.left, value)\n",
        "\n",
        "    def contains(self, value):\n",
        "        return self.__contains(self.head, value)\n",
        "\n",
        "bst = Binary_Search_Trees()\n",
        "bst.insert(67)\n",
        "bst.insert(68)\n",
        "bst.insert(34)\n",
        "bst.insert(56)\n",
        "bst.insert(23)\n",
        "print(bst.insert(90))\n",
        "print(bst.insert(34))\n",
        "print(bst.contains(56))\n",
        "print(bst.contains(77))"
      ]
    }
  ]
}