{
  "nbformat": 4,
  "nbformat_minor": 0,
  "metadata": {
    "colab": {
      "provenance": [],
      "authorship_tag": "ABX9TyOayQvEEUgJyRZNpbKQzbsG",
      "include_colab_link": true
    },
    "kernelspec": {
      "name": "python3",
      "display_name": "Python 3"
    },
    "language_info": {
      "name": "python"
    }
  },
  "cells": [
    {
      "cell_type": "markdown",
      "metadata": {
        "id": "view-in-github",
        "colab_type": "text"
      },
      "source": [
        "<a href=\"https://colab.research.google.com/github/Taz-haX/Data_Structures/blob/main/CSE_220_Lab_5_Recursion.ipynb\" target=\"_parent\"><img src=\"https://colab.research.google.com/assets/colab-badge.svg\" alt=\"Open In Colab\"/></a>"
      ]
    },
    {
      "cell_type": "code",
      "source": [
        "# TASK_1\n",
        "\n",
        "# Implement a recursive algorithm to find factorial of n.\n",
        "\n",
        "def factorial(n):\n",
        "  if n == 1:\n",
        "    return 1\n",
        "  else:\n",
        "    return n*factorial(n-1)\n",
        "\n",
        "bop = factorial(4)\n",
        "print(bop)"
      ],
      "metadata": {
        "colab": {
          "base_uri": "https://localhost:8080/"
        },
        "id": "rCphH5c3A5IS",
        "outputId": "2fc7b76d-a22f-45b7-bdd8-ca7a5c0a3337"
      },
      "execution_count": null,
      "outputs": [
        {
          "output_type": "stream",
          "name": "stdout",
          "text": [
            "24\n"
          ]
        }
      ]
    },
    {
      "cell_type": "code",
      "execution_count": null,
      "metadata": {
        "colab": {
          "base_uri": "https://localhost:8080/"
        },
        "id": "aflSE1dBAruj",
        "outputId": "2a91916b-7b7c-442e-f92b-c32debfa2834"
      },
      "outputs": [
        {
          "output_type": "stream",
          "name": "stdout",
          "text": [
            "21\n"
          ]
        }
      ],
      "source": [
        "# TASK_2\n",
        "\n",
        "# Implement a recursive algorithm to find the n-th Fibonacci number.\n",
        "\n",
        "def fibonacci(n):\n",
        "    if n == 0:\n",
        "        return 0\n",
        "    elif n == 1:\n",
        "        return 1\n",
        "    else:\n",
        "        return fibonacci(n-1)+fibonacci(n-2)\n",
        "\n",
        "f = fibonacci(8)\n",
        "print(f)"
      ]
    },
    {
      "cell_type": "code",
      "source": [
        "# TASK_3\n",
        "\n",
        "# Print all the elements of a given array recursively.\n",
        "\n",
        "def lisanalghaib(l):\n",
        "    if l == []:\n",
        "        return\n",
        "    else:\n",
        "        print(l[0])\n",
        "        return lisanalghaib(l[1:])\n",
        "\n",
        "tok = [1,2,3,4,5]\n",
        "\n",
        "lisanalghaib(tok)"
      ],
      "metadata": {
        "colab": {
          "base_uri": "https://localhost:8080/"
        },
        "id": "_x8iGwjZmUK9",
        "outputId": "b70f9f71-c4b8-48e6-98f3-cd7eb2cbd05f"
      },
      "execution_count": null,
      "outputs": [
        {
          "output_type": "stream",
          "name": "stdout",
          "text": [
            "1\n",
            "2\n",
            "3\n",
            "4\n",
            "5\n"
          ]
        }
      ]
    },
    {
      "cell_type": "code",
      "source": [
        "# TASK_4\n",
        "\n",
        "# Given base and n that are both 1 or more, compute recursively (no loops)\n",
        "# the value of base to the n power, so powerN(3, 2) is 9 (3 squared). powerN(3, 1) → 3 powerN(3, 2) → 9 powerN(3, 3) → 27\n",
        "\n",
        "def power(b,n,c=0):\n",
        "    if n == c:\n",
        "        return 1\n",
        "    else:\n",
        "        return b * power(b, n, c+1)\n",
        "\n",
        "print(power(3,3))"
      ],
      "metadata": {
        "colab": {
          "base_uri": "https://localhost:8080/"
        },
        "id": "4xIj3IELA4IK",
        "outputId": "9e6008cf-b2ed-4ff1-985b-d40023db67ae"
      },
      "execution_count": null,
      "outputs": [
        {
          "output_type": "stream",
          "name": "stdout",
          "text": [
            "27\n"
          ]
        }
      ]
    },
    {
      "cell_type": "code",
      "source": [
        "# TASK_6\n",
        "\n",
        "# Implement a recursive algorithm to add all the elements of a non-dummy headed singly linked linear list\n",
        "# Only head of the list will be given as parameter where you may assume every node can contain only integer as its element. Note: you’ll need a Singly Node class for this code.\n",
        "\n",
        "class Node:\n",
        "    def __init__(self, value):\n",
        "        self.value = value\n",
        "        self.next = None\n",
        "\n",
        "class LinkedList:\n",
        "    def __init__(self, value):\n",
        "        length = 0\n",
        "        self.length = length\n",
        "        new_node = Node(value)\n",
        "        self.head = new_node\n",
        "        self.tail = new_node\n",
        "        self.length += 1\n",
        "\n",
        "    def rolling_append(self, value):\n",
        "        for i in range(1,value+1):\n",
        "            n_node = Node(i)\n",
        "            self.tail.next = n_node\n",
        "            self.tail = n_node\n",
        "            self.length += 1\n",
        "\n",
        "    def printDetails(self):\n",
        "        temp = self.head\n",
        "        while temp is not None:\n",
        "            print(f'{temp.value}==>', end='')\n",
        "            temp = temp.next\n",
        "        print('None')\n",
        "\n",
        "link = LinkedList(7)\n",
        "link.rolling_append(6)\n",
        "link.printDetails()\n",
        "thead = link.head\n",
        "\n",
        "def link_add(list_head):\n",
        "    if list_head.next == None:\n",
        "        return list_head.value\n",
        "    else:\n",
        "        return list_head.value + link_add(list_head.next)\n",
        "\n",
        "pro = link_add(thead)\n",
        "print(pro)"
      ],
      "metadata": {
        "colab": {
          "base_uri": "https://localhost:8080/"
        },
        "id": "KfZNjQS8oK84",
        "outputId": "29e2e6be-9246-4469-843c-4d2203775c10"
      },
      "execution_count": null,
      "outputs": [
        {
          "output_type": "stream",
          "name": "stdout",
          "text": [
            "7==>1==>2==>3==>4==>5==>6==>None\n",
            "28\n"
          ]
        }
      ]
    },
    {
      "cell_type": "code",
      "source": [
        "# TASK_7\n",
        "\n",
        "# Implement a recursive algorithm which will print all the elements of a non-dummy headed singly linked linear list in reversed order.\n",
        "# Example: if the linked list contains 10, 20, 30 and 40, the method will print 40 30 20 10 Note: you’ll need a Singly Node class for this code\n",
        "\n",
        "class Node:\n",
        "    def __init__(self, value):\n",
        "        self.value = value\n",
        "        self.next = None\n",
        "\n",
        "class LinkedList:\n",
        "    def __init__(self, value):\n",
        "        length = 0\n",
        "        self.length = length\n",
        "        new_node = Node(value)\n",
        "        self.head = new_node\n",
        "        self.tail = new_node\n",
        "        self.length += 1\n",
        "\n",
        "    def rolling_append(self, value):\n",
        "        for i in range(1,value+1):\n",
        "            n_node = Node(i)\n",
        "            self.tail.next = n_node\n",
        "            self.tail = n_node\n",
        "            self.length += 1\n",
        "\n",
        "    def printDetails(self):\n",
        "        temp = self.head\n",
        "        while temp is not None:\n",
        "            print(f'{temp.value}==>', end='')\n",
        "            temp = temp.next\n",
        "        print('None')\n",
        "\n",
        "link = LinkedList(7)\n",
        "link.rolling_append(6)\n",
        "link.printDetails()\n",
        "thead = link.head\n",
        "\n",
        "def link_REV(list_head):\n",
        "    if list_head.next == None:\n",
        "        return list_head.value\n",
        "    else:\n",
        "        return f'{link_REV(list_head.next)}==>{list_head.value}'\n",
        "\n",
        "def printer(inn):\n",
        "    print(link_REV(inn))\n",
        "\n",
        "printer(thead)"
      ],
      "metadata": {
        "colab": {
          "base_uri": "https://localhost:8080/"
        },
        "id": "aHHssBzmAvMD",
        "outputId": "80504ca4-d509-4049-93eb-fefbe52ed13f"
      },
      "execution_count": null,
      "outputs": [
        {
          "output_type": "stream",
          "name": "stdout",
          "text": [
            "7==>1==>2==>3==>4==>5==>6==>None\n",
            "6==>5==>4==>3==>2==>1==>7\n"
          ]
        }
      ]
    },
    {
      "cell_type": "code",
      "source": [
        "# TASK_8\n",
        "\n",
        "# Suppose, you have been given a non-negative integer which is the height of a ‘house of cards’. To build such a house you at-least require 8 cards.\n",
        "# To increase the level (or height) of that house, you would require four sides and a base for each level.\n",
        "# Therefore, for the top level, you would require 8 cards and for each of the rest of the levels below you would require 5 extra cards.\n",
        "# If you were asked to build level one only, you would require just 8 cards. Of course, the input can be zero; in that case, you do not build a house at all.\n",
        "# Complete the recursive method below to calculate the number of cards required to build a ‘house of cards’ of specific height given by the parameter.\n",
        "\n",
        "def multi(n):\n",
        "    if n == 1:\n",
        "        return 1\n",
        "    else:\n",
        "        return n+multi(n-1)\n",
        "\n",
        "def card_house(height, c=-1):\n",
        "    if height == 0:\n",
        "        return 0\n",
        "    elif height == 1:\n",
        "        return 8\n",
        "    elif c == height-1 and height>1:\n",
        "        return (height*8)+(5*multi(c))\n",
        "    else:\n",
        "        return 0+card_house(height, c+1)\n",
        "\n",
        "print(card_house(4))"
      ],
      "metadata": {
        "colab": {
          "base_uri": "https://localhost:8080/"
        },
        "id": "U6bloFrdGqQU",
        "outputId": "4d2ca441-9ddd-43e2-835b-a2d92f785db3"
      },
      "execution_count": null,
      "outputs": [
        {
          "output_type": "stream",
          "name": "stdout",
          "text": [
            "62\n"
          ]
        }
      ]
    },
    {
      "cell_type": "code",
      "source": [
        "# TASK_9\n",
        "\n",
        "# Print the following pattern for the given input (you must use recursion): Sample Input: 5 Sample Output:\n",
        "# 1\n",
        "# 1 2\n",
        "# 1 2 3\n",
        "# 1 2 3 4\n",
        "# 1 2 3 4 5\n",
        "\n",
        "def liner(c, d=1):\n",
        "    if c==d:\n",
        "        return c\n",
        "    else:\n",
        "        return str(d)+str(liner(c, d+1))\n",
        "\n",
        "def printer(l,c=1):\n",
        "    if l == 0:\n",
        "        return\n",
        "    else:\n",
        "        print(int(liner(c)))\n",
        "        return printer(l-1,c+1)\n",
        "\n",
        "printer(10)"
      ],
      "metadata": {
        "colab": {
          "base_uri": "https://localhost:8080/"
        },
        "id": "TkFG9lFfBDRC",
        "outputId": "adfe875d-dea3-4fc0-9f27-9c6e0551497e"
      },
      "execution_count": null,
      "outputs": [
        {
          "output_type": "stream",
          "name": "stdout",
          "text": [
            "1\n",
            "12\n",
            "123\n",
            "1234\n",
            "12345\n",
            "123456\n",
            "1234567\n",
            "12345678\n",
            "123456789\n",
            "12345678910\n"
          ]
        }
      ]
    },
    {
      "cell_type": "code",
      "source": [
        "# TASK_10\n",
        "\n",
        "# Print the following pattern for the given input (you must use recursion):\n",
        "# Sample Input: 5 Sample Output:\n",
        "#     1\n",
        "#   1 2\n",
        "# 1 2 3\n",
        "\n",
        "def blanker(b):\n",
        "    if b==0:\n",
        "        return\n",
        "    else:\n",
        "        blanker(b-1)\n",
        "        print(' ', end='')\n",
        "\n",
        "def liner(c):\n",
        "    if c==0:\n",
        "        return\n",
        "    else:\n",
        "        liner(c-1)\n",
        "        print(c,end='')\n",
        "\n",
        "def print_l(a,d):\n",
        "    if a == 0:\n",
        "        return\n",
        "    else:\n",
        "        blanker(a-1)\n",
        "        liner(d-a+1)\n",
        "        print()\n",
        "        print_l(a-1,d)\n",
        "\n",
        "#liner(3)\n",
        "print_l(5,5)"
      ],
      "metadata": {
        "id": "1sGevJjrNBfV",
        "colab": {
          "base_uri": "https://localhost:8080/"
        },
        "outputId": "27908c65-851a-422d-a9d8-7db5aaa40041"
      },
      "execution_count": 1,
      "outputs": [
        {
          "output_type": "stream",
          "name": "stdout",
          "text": [
            "    1\n",
            "   12\n",
            "  123\n",
            " 1234\n",
            "12345\n"
          ]
        }
      ]
    },
    {
      "cell_type": "code",
      "source": [
        "# TASK_11\n",
        "\n",
        "# Suppose, you are working in a company ‘X’ where your job is to calculate the profit based on their investment.\n",
        "# If the company invests 100,000 USD or less, their profit will be based on 75,000 USD as first 25,000 USD goes to set up the business in the first place.\n",
        "# For the first 100,000 USD, the profit margin is low: 4.5%. Therefore, for every 100 dollar they spend, they get a profit of 4.5 dollar.\n",
        "# For an investment greater than 100,000 USD, for the first 100,000 USD (actually on 75,000 USD as 25,000 is the setup cost),\n",
        "# the profit margin is 4.5% where for the rest, it goes up to 8%. For example, if they invest 250,000 USD, they will get an 8% profit for the 150,000 USD.\n",
        "# In addition, from the rest 100,000 USD, 25,000 is the setup cost and there will be a 4.5% profit on the rest 75,000.\n",
        "# Investment will always be greater or equal to 25,000 and multiple of 100.\n",
        "# Complete the RECURSIVE methods below that take an array of integers (investments)\n",
        "# and an iterator (always sets to ZERO(‘0’) when the method is initially called) and prints the profit for the corresponding investment.\n",
        "# You must avoid loop and multiplication (‘*’) operator.\n",
        "\n",
        "def interest_rate(f,g):\n",
        "    if g == 1:\n",
        "        return f\n",
        "    else:\n",
        "        return f + interest_rate(f, g-1)\n",
        "\n",
        "def profiter(n):\n",
        "    if n == 25000:\n",
        "        return 0\n",
        "    if n <= 100000:\n",
        "        c = n-25000\n",
        "        c = c/100\n",
        "        return int(interest_rate(4.5,c))\n",
        "    if n > 100000:\n",
        "        d = n-25000\n",
        "        d = d - 75000\n",
        "        c = 75000\n",
        "        c = c/100\n",
        "        if d>99999:\n",
        "            d = d/1000\n",
        "            return int(interest_rate(80,d)+interest_rate(4.5,c))\n",
        "        else:\n",
        "            d = d/100\n",
        "            return int(interest_rate(8,d)+interest_rate(4.5,c))\n",
        "\n",
        "def investor(x, a=0):\n",
        "    if x==[]:\n",
        "        return\n",
        "    else:\n",
        "        print(f'Investment: {x[0]}, ',end='')\n",
        "        print(f'Profits: {profiter(x[0])}.{a}', end='')\n",
        "        print()\n",
        "        investor(x[1:])\n",
        "\n",
        "n_array = [25000,100000,250000,350000]\n",
        "po = investor(n_array)"
      ],
      "metadata": {
        "colab": {
          "base_uri": "https://localhost:8080/"
        },
        "id": "yOOIpeaGYjAd",
        "outputId": "2f648ded-bb8c-4d54-9e44-17eb1f67402e"
      },
      "execution_count": 3,
      "outputs": [
        {
          "output_type": "stream",
          "name": "stdout",
          "text": [
            "Investment: 25000, Profits: 0.0\n",
            "Investment: 100000, Profits: 3375.0\n",
            "Investment: 250000, Profits: 15375.0\n",
            "Investment: 350000, Profits: 23375.0\n"
          ]
        }
      ]
    }
  ]
}
