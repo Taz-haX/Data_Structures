{
  "nbformat": 4,
  "nbformat_minor": 0,
  "metadata": {
    "colab": {
      "provenance": [],
      "authorship_tag": "ABX9TyO5mverOEHZWQt70eHUz4Bw",
      "include_colab_link": true
    },
    "kernelspec": {
      "name": "python3",
      "display_name": "Python 3"
    },
    "language_info": {
      "name": "python"
    }
  },
  "cells": [
    {
      "cell_type": "markdown",
      "metadata": {
        "id": "view-in-github",
        "colab_type": "text"
      },
      "source": [
        "<a href=\"https://colab.research.google.com/github/Taz-haX/Data_Structures/blob/main/Hash_Tables_101.ipynb\" target=\"_parent\"><img src=\"https://colab.research.google.com/assets/colab-badge.svg\" alt=\"Open In Colab\"/></a>"
      ]
    },
    {
      "cell_type": "code",
      "execution_count": null,
      "metadata": {
        "colab": {
          "base_uri": "https://localhost:8080/"
        },
        "id": "2l4eRd4vaCkE",
        "outputId": "43035493-86e8-4289-945d-a7d136c95484"
      },
      "outputs": [
        {
          "output_type": "stream",
          "name": "stdout",
          "text": [
            "0:None\n",
            "1:None\n",
            "2:None\n",
            "3:None\n",
            "4:None\n",
            "5:None\n",
            "6:None\n",
            "===========\n",
            "[None, None, None, None, None, None, None]\n",
            "=========\n",
            "0:None\n",
            "1:None\n",
            "2:None\n",
            "3:None\n",
            "4:[['bolts', 1200], ['washers', 1000]]\n",
            "5:None\n",
            "6:[['lumber', 2000]]\n",
            "===========\n",
            "2000\n",
            "['bolts', 'washers', 'lumber']\n"
          ]
        }
      ],
      "source": [
        "class Hash_Table:\n",
        "    def __init__(self, size = 7):\n",
        "        self.data_map = [None]*size\n",
        "\n",
        "    def __hash(self, key):\n",
        "        my_hash = 0\n",
        "        for letter in key:\n",
        "            my_hash = (my_hash+ord(letter)*23)%len(self.data_map)\n",
        "        return my_hash\n",
        "\n",
        "    def insert(self, key, value):\n",
        "        index = self.__hash(key)\n",
        "        if self.data_map[index] == None:\n",
        "            self.data_map[index] = []\n",
        "        self.data_map[index].append([key, value])\n",
        "\n",
        "    def get(self, key):\n",
        "        index = self.__hash(key)\n",
        "        if self.data_map[index] is not None:\n",
        "            for i in range(len(self.data_map[index])):\n",
        "                if self.data_map[index][i][0]==key:\n",
        "                    return self.data_map[index][i][1]\n",
        "        return None\n",
        "\n",
        "    def keys(self):\n",
        "        all_keys = []\n",
        "        for i in range(len(self.data_map)):\n",
        "            if self.data_map[i] is not None:\n",
        "                for j in range(len(self.data_map[i])):\n",
        "                    all_keys.append(self.data_map[i][j][0])\n",
        "        return all_keys\n",
        "\n",
        "    def printTable(self):\n",
        "        for i, val in enumerate(self.data_map):\n",
        "            print(f'{i}:{val}')\n",
        "\n",
        "ht1 = Hash_Table()\n",
        "ht1.printTable()\n",
        "print('===========')\n",
        "print(ht1.data_map)\n",
        "print('=========')\n",
        "ht1.insert('bolts', 1200)\n",
        "ht1.insert('washers', 1000)\n",
        "ht1.insert('lumber', 2000)\n",
        "ht1.printTable()\n",
        "print('===========')\n",
        "print(ht1.get('lumber'))\n",
        "print(ht1.keys())"
      ]
    }
  ]
}
