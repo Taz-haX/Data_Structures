{
  "nbformat": 4,
  "nbformat_minor": 0,
  "metadata": {
    "colab": {
      "provenance": [],
      "authorship_tag": "ABX9TyOvP4TymfXZasiSqUdSp8Ai",
      "include_colab_link": true
    },
    "kernelspec": {
      "name": "python3",
      "display_name": "Python 3"
    },
    "language_info": {
      "name": "python"
    }
  },
  "cells": [
    {
      "cell_type": "markdown",
      "metadata": {
        "id": "view-in-github",
        "colab_type": "text"
      },
      "source": [
        "<a href=\"https://colab.research.google.com/github/Taz-haX/Data_Structures/blob/main/Graph_(Adjacency_List)_101.ipynb\" target=\"_parent\"><img src=\"https://colab.research.google.com/assets/colab-badge.svg\" alt=\"Open In Colab\"/></a>"
      ]
    },
    {
      "cell_type": "code",
      "execution_count": null,
      "metadata": {
        "id": "rBfPmTiGS8u4",
        "outputId": "59c1aaf3-50f8-4772-d86e-6ce2670852c4",
        "colab": {
          "base_uri": "https://localhost:8080/"
        }
      },
      "outputs": [
        {
          "output_type": "stream",
          "name": "stdout",
          "text": [
            "B : []\n",
            "C : []\n",
            "O : []\n",
            "========\n",
            "B : []\n",
            "C : ['O']\n",
            "O : ['C']\n",
            "===========\n",
            "B : ['C']\n",
            "C : ['B']\n",
            "O : []\n",
            "=============\n",
            "A : ['B', 'C', 'D']\n",
            "B : ['A', 'D']\n",
            "C : ['A', 'D']\n",
            "D : ['B', 'C', 'A']\n",
            "==============\n",
            "A : ['B', 'C']\n",
            "B : ['A']\n",
            "C : ['A']\n"
          ]
        }
      ],
      "source": [
        "class Graph:\n",
        "    def __init__(self):\n",
        "        self.adj_list = {}\n",
        "\n",
        "    def add_vertex(self, vertex):\n",
        "        if vertex not in self.adj_list.keys():\n",
        "            self.adj_list[vertex] = []\n",
        "            return True\n",
        "        return False\n",
        "\n",
        "    def add_edge(self, e1, e2):\n",
        "        if e1 in self.adj_list.keys() and e2 in self.adj_list.keys():\n",
        "            self.adj_list[e1].append(e2)\n",
        "            self.adj_list[e2].append(e1)\n",
        "\n",
        "    def remove_edge(self, e1, e2):\n",
        "        if e1 in self.adj_list.keys() and e2 in self.adj_list.keys():\n",
        "            try:\n",
        "                self.adj_list[e1].remove(e2)\n",
        "                self.adj_list[e2].remove(e1)\n",
        "                return True\n",
        "            except ValueError:\n",
        "                pass\n",
        "            return False\n",
        "\n",
        "    def remove_vertex(self, vertex):\n",
        "        if vertex in self.adj_list.keys():\n",
        "            for other_vertexes in self.adj_list[vertex]:\n",
        "                self.adj_list[other_vertexes].remove(vertex)\n",
        "            del self.adj_list[vertex]\n",
        "            return True\n",
        "        return False\n",
        "\n",
        "    def print_Graph(self):\n",
        "        for vertex in self.adj_list:\n",
        "            print(vertex, ':', self.adj_list[vertex])\n",
        "\n",
        "g1 = Graph()\n",
        "g1.add_vertex('B')\n",
        "g1.add_vertex('C')\n",
        "g1.add_vertex('O')\n",
        "g1.print_Graph()\n",
        "print('========')\n",
        "g1.add_edge('C', 'O')\n",
        "g1.print_Graph()\n",
        "print('===========')\n",
        "g1.add_edge('B', 'C')\n",
        "g1.remove_edge('O', 'C')\n",
        "g1.print_Graph()\n",
        "print('=============')\n",
        "g2 = Graph()\n",
        "g2.add_vertex('A')\n",
        "g2.add_vertex('B')\n",
        "g2.add_vertex('C')\n",
        "g2.add_vertex('D')\n",
        "\n",
        "g2.add_edge('A', 'B')\n",
        "g2.add_edge('A', 'C')\n",
        "g2.add_edge('B', 'D')\n",
        "g2.add_edge('C', 'D')\n",
        "g2.add_edge('D', 'A')\n",
        "\n",
        "g2.print_Graph()\n",
        "print('==============')\n",
        "g2.remove_vertex('D')\n",
        "g2.print_Graph()"
      ]
    }
  ]
}
