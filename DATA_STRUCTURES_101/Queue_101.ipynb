{
  "nbformat": 4,
  "nbformat_minor": 0,
  "metadata": {
    "colab": {
      "provenance": [],
      "authorship_tag": "ABX9TyPer05Dd2RhmguRyNd8W2fq",
      "include_colab_link": true
    },
    "kernelspec": {
      "name": "python3",
      "display_name": "Python 3"
    },
    "language_info": {
      "name": "python"
    }
  },
  "cells": [
    {
      "cell_type": "markdown",
      "metadata": {
        "id": "view-in-github",
        "colab_type": "text"
      },
      "source": [
        "<a href=\"https://colab.research.google.com/github/Taz-haX/Data_Structures/blob/main/Queue_101.ipynb\" target=\"_parent\"><img src=\"https://colab.research.google.com/assets/colab-badge.svg\" alt=\"Open In Colab\"/></a>"
      ]
    },
    {
      "cell_type": "code",
      "execution_count": null,
      "metadata": {
        "id": "Jy9eiYxSAQ5X",
        "colab": {
          "base_uri": "https://localhost:8080/"
        },
        "outputId": "72e67948-2f0e-4d51-e031-ff609a261726"
      },
      "outputs": [
        {
          "output_type": "stream",
          "name": "stdout",
          "text": [
            "9\n",
            "========\n",
            "9-->14-->44-->33-->63-->77\n",
            "========\n",
            "9\n",
            "14\n",
            "======\n",
            "44-->33-->63-->77\n",
            "========\n",
            "1\n",
            "========\n",
            "None\n"
          ]
        }
      ],
      "source": [
        "class Node:\n",
        "    def __init__(self, value):\n",
        "        self.value = value\n",
        "        self.next = None\n",
        "\n",
        "class Queue:\n",
        "    def __init__(self, value):\n",
        "        new_node = Node(value)\n",
        "        self.first = new_node\n",
        "        self.last = new_node\n",
        "        self.length = 1\n",
        "\n",
        "    def enqueue(self, value):\n",
        "        new_node = Node(value)\n",
        "        if self.length == 0:\n",
        "            self.first = new_node\n",
        "            self.last = new_node\n",
        "            self.length = 1\n",
        "        else:\n",
        "            self.last.next = new_node\n",
        "            self.last = new_node\n",
        "            self.length += 1\n",
        "\n",
        "    def dequeue(self):\n",
        "        if self.length == 0:\n",
        "            return None\n",
        "        else:\n",
        "            temp = self.first\n",
        "            self.first = temp.next\n",
        "            temp.next = None\n",
        "            self.length-=1\n",
        "            return temp.value\n",
        "\n",
        "    def show_queue(self):\n",
        "        temp = self.first\n",
        "        while temp != None:\n",
        "            if temp.next != None:\n",
        "                print(f'{temp.value}-->', end='')\n",
        "            else:\n",
        "                print(f'{temp.value}')\n",
        "            temp = temp.next\n",
        "        print('========')\n",
        "\n",
        "q1 = Queue(9)\n",
        "q1.show_queue()\n",
        "q1.enqueue(14)\n",
        "q1.enqueue(44)\n",
        "q1.enqueue(33)\n",
        "q1.enqueue(63)\n",
        "q1.enqueue(77)\n",
        "q1.show_queue()\n",
        "print(q1.dequeue())\n",
        "print(q1.dequeue())\n",
        "print('======')\n",
        "q1.show_queue()\n",
        "q2 = Queue(1)\n",
        "print(q2.dequeue())\n",
        "q2.show_queue()\n",
        "print(q2.dequeue())"
      ]
    }
  ]
}
