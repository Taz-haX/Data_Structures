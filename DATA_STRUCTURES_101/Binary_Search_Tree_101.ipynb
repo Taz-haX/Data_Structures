{
  "nbformat": 4,
  "nbformat_minor": 0,
  "metadata": {
    "colab": {
      "provenance": [],
      "authorship_tag": "ABX9TyMPiVwU2bDuqbbSDU1cNFMc",
      "include_colab_link": true
    },
    "kernelspec": {
      "name": "python3",
      "display_name": "Python 3"
    },
    "language_info": {
      "name": "python"
    }
  },
  "cells": [
    {
      "cell_type": "markdown",
      "metadata": {
        "id": "view-in-github",
        "colab_type": "text"
      },
      "source": [
        "<a href=\"https://colab.research.google.com/github/Taz-haX/Data_Structures/blob/main/Binary_Search_Tree_101.ipynb\" target=\"_parent\"><img src=\"https://colab.research.google.com/assets/colab-badge.svg\" alt=\"Open In Colab\"/></a>"
      ]
    },
    {
      "cell_type": "code",
      "execution_count": null,
      "metadata": {
        "colab": {
          "base_uri": "https://localhost:8080/"
        },
        "id": "Y6UtOsm9DK5i",
        "outputId": "ba862a02-99a8-4439-b55b-b9e814a6291c"
      },
      "outputs": [
        {
          "output_type": "stream",
          "name": "stdout",
          "text": [
            "None\n",
            "5\n",
            "8\n",
            "False\n",
            "True\n"
          ]
        }
      ],
      "source": [
        "class Node:\n",
        "    def __init__(self, value):\n",
        "        self.value = value\n",
        "        self.left = None\n",
        "        self.right = None\n",
        "\n",
        "class BinarySearchTree:\n",
        "    def __init__(self):\n",
        "        self.root = None\n",
        "\n",
        "    def insert(self, value):\n",
        "        new_node = Node(value)\n",
        "        if self.root is None:\n",
        "            self.root = new_node\n",
        "            return True\n",
        "        temp = self.root\n",
        "        while (True):\n",
        "            if new_node.value == temp.value:\n",
        "                return False\n",
        "            if new_node.value < temp.value:\n",
        "                if temp.left is None:\n",
        "                    temp.left = new_node\n",
        "                    return True\n",
        "                temp = temp.left\n",
        "            else:\n",
        "                if temp.right is None:\n",
        "                    temp.right = new_node\n",
        "                    return True\n",
        "                temp = temp.right\n",
        "\n",
        "    def contains(self, value):\n",
        "        if self.root == None:\n",
        "            return False\n",
        "        temp = self.root\n",
        "        while temp != None:\n",
        "            if value > temp.value:\n",
        "                temp = temp.right\n",
        "            elif value < temp.value:\n",
        "                temp = temp.left\n",
        "            else:\n",
        "                return True\n",
        "        return False\n",
        "\n",
        "tr1 = BinarySearchTree()\n",
        "print(tr1.root)\n",
        "tr1.insert(5)\n",
        "print(tr1.root.value)\n",
        "tr1.insert(3)\n",
        "tr1.insert(1)\n",
        "#print(tr1.root.right.value)\n",
        "#print(tr1.root.left.value)\n",
        "tr1.insert(4)\n",
        "tr1.insert(7)\n",
        "tr1.insert(8)\n",
        "tr1.insert(10)\n",
        "print(tr1.root.right.right.value)\n",
        "print(tr1.contains(9))\n",
        "print(tr1.contains(10))"
      ]
    }
  ]
}
