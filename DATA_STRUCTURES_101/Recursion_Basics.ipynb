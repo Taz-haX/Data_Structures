{
  "nbformat": 4,
  "nbformat_minor": 0,
  "metadata": {
    "colab": {
      "provenance": [],
      "authorship_tag": "ABX9TyMkOTUaCEuS/PLsSMneqsPq",
      "include_colab_link": true
    },
    "kernelspec": {
      "name": "python3",
      "display_name": "Python 3"
    },
    "language_info": {
      "name": "python"
    }
  },
  "cells": [
    {
      "cell_type": "markdown",
      "metadata": {
        "id": "view-in-github",
        "colab_type": "text"
      },
      "source": [
        "<a href=\"https://colab.research.google.com/github/Taz-haX/Data_Structures/blob/main/Recursion_Basics.ipynb\" target=\"_parent\"><img src=\"https://colab.research.google.com/assets/colab-badge.svg\" alt=\"Open In Colab\"/></a>"
      ]
    },
    {
      "cell_type": "markdown",
      "source": [
        "##CALL_STACK_basics"
      ],
      "metadata": {
        "id": "hrAyfS8-fF6H"
      }
    },
    {
      "cell_type": "code",
      "execution_count": null,
      "metadata": {
        "id": "_G0ztI5s4uM3",
        "colab": {
          "base_uri": "https://localhost:8080/"
        },
        "outputId": "02e03e32-79d4-41a4-e8ad-95afec8bd939"
      },
      "outputs": [
        {
          "output_type": "stream",
          "name": "stdout",
          "text": [
            "Three\n",
            "Two\n",
            "One\n"
          ]
        }
      ],
      "source": [
        "def function_three():\n",
        "    print('Three')\n",
        "\n",
        "def function_two():\n",
        "    function_three()\n",
        "    print('Two')\n",
        "\n",
        "def function_one():\n",
        "    function_two()\n",
        "    print('One')\n",
        "\n",
        "function_one()"
      ]
    },
    {
      "cell_type": "markdown",
      "source": [
        "##Recursion_for_Factorial"
      ],
      "metadata": {
        "id": "4GpVJyO_hokk"
      }
    },
    {
      "cell_type": "code",
      "source": [
        "def factorial(n):\n",
        "    if n==1:\n",
        "        return 1\n",
        "    return n * factorial(n-1)\n",
        "\n",
        "print(factorial(6))"
      ],
      "metadata": {
        "colab": {
          "base_uri": "https://localhost:8080/"
        },
        "id": "dd48TBN_fPwu",
        "outputId": "86a2ce9c-3193-48ea-c9b2-bbfc1b1f5449"
      },
      "execution_count": null,
      "outputs": [
        {
          "output_type": "stream",
          "name": "stdout",
          "text": [
            "720\n"
          ]
        }
      ]
    }
  ]
}
